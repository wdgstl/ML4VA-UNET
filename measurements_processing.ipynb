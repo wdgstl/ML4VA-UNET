{
 "cells": [
  {
   "cell_type": "code",
   "execution_count": 15,
   "metadata": {},
   "outputs": [],
   "source": [
    "import os\n",
    "import pandas as pd\n",
    "\n",
    "mapping = {}\n",
    "\n",
    "for filename in os.listdir('measurements/'):\n",
    "    filepath = os.path.join('measurements/', filename)\n",
    "    df = pd.read_csv(filepath)\n",
    "    total_area = 0\n",
    "    for row in df.iterrows():\n",
    "        total_area += row[1][\"Area\"]\n",
    "    name = filename.split(\"_\")[0]\n",
    "    mapping[name] = total_area\n",
    "\n",
    "result_df = pd.DataFrame(list(mapping.items()), columns=['Name', 'Total_Area'])\n",
    "\n",
    "result_df.to_csv(\"total_measurements_per_image.csv\")"
   ]
  }
 ],
 "metadata": {
  "kernelspec": {
   "display_name": "myvenv",
   "language": "python",
   "name": "python3"
  },
  "language_info": {
   "codemirror_mode": {
    "name": "ipython",
    "version": 3
   },
   "file_extension": ".py",
   "mimetype": "text/x-python",
   "name": "python",
   "nbconvert_exporter": "python",
   "pygments_lexer": "ipython3",
   "version": "3.13.1"
  }
 },
 "nbformat": 4,
 "nbformat_minor": 2
}
